{
 "cells": [
  {
   "cell_type": "markdown",
   "source": [
    "# Learning rate finder\r\n",
    "\r\n",
    "Pytorch Lightning comes with a function which automaticly determines the perfect learning rate for a model. This notebook is used to find the right learning rate for the FineGrainedEntityTyper.\r\n"
   ],
   "metadata": {}
  },
  {
   "cell_type": "code",
   "execution_count": 1,
   "source": [
    "import pytorch_lightning as pl\r\n",
    "\r\n",
    "from et4el.data import EntityTypingDataModule\r\n",
    "from et4el.typer import FineGrainedEntityTyper"
   ],
   "outputs": [],
   "metadata": {}
  },
  {
   "cell_type": "code",
   "execution_count": 2,
   "source": [
    "dm = EntityTypingDataModule()\r\n",
    "\r\n",
    "model = FineGrainedEntityTyper()\r\n",
    "\r\n",
    "trainer = pl.Trainer()\r\n",
    "lr_finder = trainer.tuner.lr_find(model, datamodule=dm)\r\n",
    "\r\n",
    "# Results can be found in\r\n",
    "lr_finder.results\r\n",
    "\r\n",
    "# Plot with\r\n",
    "fig = lr_finder.plot(suggest=True)\r\n",
    "fig.show()"
   ],
   "outputs": [
    {
     "output_type": "stream",
     "name": "stderr",
     "text": [
      "GPU available: True, used: False\n",
      "TPU available: False, using: 0 TPU cores\n",
      "IPU available: False, using: 0 IPUs\n",
      "C:\\Users\\tobia\\anaconda3\\envs\\et4el-lightning\\lib\\site-packages\\pytorch_lightning\\trainer\\trainer.py:1295: UserWarning: GPU available but not used. Set the gpus flag in your trainer `Trainer(gpus=1)` or script `--gpus=1`.\n",
      "  \"GPU available but not used. Set the gpus flag in your trainer\"\n",
      "\n",
      "  | Name             | Type            | Params\n",
      "-----------------------------------------------------\n",
      "0 | sentence_encoder | SentenceEncoder | 460 K \n",
      "1 | mention_encoder  | MentionEncoder  | 6.4 M \n",
      "2 | decoder          | SimpleDecoder   | 70.4 M\n",
      "3 | f1               | F1              | 0     \n",
      "-----------------------------------------------------\n",
      "77.3 M    Trainable params\n",
      "0         Non-trainable params\n",
      "77.3 M    Total params\n",
      "309.358   Total estimated model params size (MB)\n",
      "C:\\Users\\tobia\\anaconda3\\envs\\et4el-lightning\\lib\\site-packages\\pytorch_lightning\\utilities\\data.py:72: UserWarning: Your `IterableDataset` has `__len__` defined. In combination with multi-process data loading (when num_workers > 1), `__len__` could be inaccurate if each worker is not configured independently to avoid having duplicate data.\n",
      "  \"Your `IterableDataset` has `__len__` defined.\"\n",
      "C:\\Users\\tobia\\anaconda3\\envs\\et4el-lightning\\lib\\site-packages\\pytorch_lightning\\trainer\\data_loading.py:106: UserWarning: The dataloader, val dataloader 0, does not have many workers which may be a bottleneck. Consider increasing the value of the `num_workers` argument` (try 12 which is the number of cpus on this machine) in the `DataLoader` init to improve performance.\n",
      "  f\"The dataloader, {name}, does not have many workers which may be a bottleneck.\"\n",
      "C:\\Users\\tobia\\anaconda3\\envs\\et4el-lightning\\lib\\site-packages\\pytorch_lightning\\trainer\\data_loading.py:106: UserWarning: The dataloader, train dataloader, does not have many workers which may be a bottleneck. Consider increasing the value of the `num_workers` argument` (try 12 which is the number of cpus on this machine) in the `DataLoader` init to improve performance.\n",
      "  f\"The dataloader, {name}, does not have many workers which may be a bottleneck.\"\n",
      "Finding best initial lr: 100%|██████████| 100/100 [06:41<00:00,  4.04s/it]Restoring states from the checkpoint file at c:\\Users\\tobia\\Documents\\GitHub\\ET4EL-Lightning\\et4el\\lr_find_temp_model.ckpt\n",
      "Restored all states from the checkpoint file at c:\\Users\\tobia\\Documents\\GitHub\\ET4EL-Lightning\\et4el\\lr_find_temp_model.ckpt\n",
      "Finding best initial lr: 100%|██████████| 100/100 [06:41<00:00,  4.02s/it]\n",
      "ipykernel_launcher:13: UserWarning: Matplotlib is currently using module://matplotlib_inline.backend_inline, which is a non-GUI backend, so cannot show the figure.\n"
     ]
    },
    {
     "output_type": "display_data",
     "data": {
      "image/png": "[encoded data removed]",
      "text/plain": [
       "<Figure size 432x288 with 1 Axes>"
      ]
     },
     "metadata": {
      "needs_background": "light"
     }
    }
   ],
   "metadata": {}
  }
 ],
 "metadata": {
  "orig_nbformat": 4,
  "language_info": {
   "name": "python",
   "version": "3.7.11",
   "mimetype": "text/x-python",
   "codemirror_mode": {
    "name": "ipython",
    "version": 3
   },
   "pygments_lexer": "ipython3",
   "nbconvert_exporter": "python",
   "file_extension": ".py"
  },
  "kernelspec": {
   "name": "python3",
   "display_name": "Python 3.7.11 64-bit ('et4el-lightning': conda)"
  },
  "interpreter": {
   "hash": "c9abe7bae20303d22f6787541574ad571c96a9ca91520a95e8b77ca70a0fe0fc"
  }
 },
 "nbformat": 4,
 "nbformat_minor": 2
}